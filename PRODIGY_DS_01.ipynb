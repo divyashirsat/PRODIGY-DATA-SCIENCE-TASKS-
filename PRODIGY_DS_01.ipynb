{
 "cells": [
  {
   "cell_type": "code",
   "execution_count": null,
   "id": "9a8313b9",
   "metadata": {},
   "outputs": [],
   "source": [
    "#importing required libraries\n",
    "import pandas as pd\n",
    "import matplotlib.pyplot as plt\n",
    "from matplotlib import style\n",
    "%matplotlib inline\n",
    "import seaborn as sns"
   ]
  },
  {
   "cell_type": "code",
   "execution_count": null,
   "id": "d0c56e8b",
   "metadata": {},
   "outputs": [],
   "source": [
    "#reading the required dataset\n",
    "df = pd.read_csv(r\"C:\\Users\\LENOVO\\Desktop\\Data Science Internship\\archive\\Student Mental Health.csv\")\n",
    "print(df)"
   ]
  },
  {
   "cell_type": "code",
   "execution_count": null,
   "id": "881a137f",
   "metadata": {},
   "outputs": [],
   "source": [
    "#data visualization\n",
    "plt.figure(figsize=(8,8))\n",
    "plt.hist(df['Age'],color='b')\n",
    "plt.title(\"Age distribution\")"
   ]
  },
  {
   "cell_type": "code",
   "execution_count": null,
   "id": "06fba70e",
   "metadata": {},
   "outputs": [],
   "source": [
    "df.rename(columns = {'Choose your gender': 'Gender'}, inplace = True)"
   ]
  },
  {
   "cell_type": "code",
   "execution_count": null,
   "id": "a544442f",
   "metadata": {},
   "outputs": [],
   "source": [
    "plt.figure(figsize=(6,6))\n",
    "plt.hist(df['Gender'],color='lightskyblue')\n",
    "plt.title(\"Gender distribution\")"
   ]
  },
  {
   "cell_type": "code",
   "execution_count": null,
   "id": "442af097",
   "metadata": {},
   "outputs": [],
   "source": [
    "df.rename(columns = {'What is your course?': 'Course'}, inplace = True)"
   ]
  },
  {
   "cell_type": "code",
   "execution_count": null,
   "id": "53f16c43",
   "metadata": {},
   "outputs": [],
   "source": [
    "df.rename(columns = {'Your current year of Study': 'CurrentYear'}, inplace = True)"
   ]
  },
  {
   "cell_type": "code",
   "execution_count": null,
   "id": "ad072a6e",
   "metadata": {},
   "outputs": [],
   "source": [
    "plt.figure(figsize=(8,8))\n",
    "sns.set_theme(style=\"ticks\")\n",
    "bx = sns.countplot(x=\"Do you have Depression?\", hue=\"Age\", data=df)\n",
    "plt.title(\"Depression by Age\")\n",
    "plt.show()"
   ]
  },
  {
   "cell_type": "code",
   "execution_count": null,
   "id": "00768ad3",
   "metadata": {},
   "outputs": [],
   "source": [
    "plt.figure(figsize=(9,9))\n",
    "plt.title(\"Course by CurrentYear\")\n",
    "plt.hist(df['Course'],color='g')\n",
    "plt.hist(df['CurrentYear'],color='b', width = 5)\n",
    "plt.show()"
   ]
  },
  {
   "cell_type": "code",
   "execution_count": null,
   "id": "02aab31d",
   "metadata": {},
   "outputs": [],
   "source": [
    "plt.figure(figsize=(10,10))\n",
    "sns.set_theme(style=\"whitegrid\")\n",
    "bx = sns.countplot(x=\"Do you have Panic attack?\", hue=\"Age\", data=df)\n",
    "plt.title(\"Panic attack by Age\")\n",
    "plt.show()"
   ]
  }
 ],
 "metadata": {
  "kernelspec": {
   "display_name": "Python 3",
   "language": "python",
   "name": "python3"
  },
  "language_info": {
   "codemirror_mode": {
    "name": "ipython",
    "version": 3
   },
   "file_extension": ".py",
   "mimetype": "text/x-python",
   "name": "python",
   "nbconvert_exporter": "python",
   "pygments_lexer": "ipython3",
   "version": "3.9.6"
  }
 },
 "nbformat": 4,
 "nbformat_minor": 5
}
