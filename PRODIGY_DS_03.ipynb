{
 "cells": [
  {
   "cell_type": "code",
   "execution_count": null,
   "id": "d9e3bee9",
   "metadata": {},
   "outputs": [],
   "source": [
    "# importing necessary libraries \n",
    "import pandas as pd\n",
    "import numpy as np\n",
    "import seaborn as sns\n",
    "import matplotlib.pyplot as plt\n",
    "%matplotlib inline\n",
    "\n",
    "from sklearn.preprocessing import StandardScaler, LabelEncoder\n",
    "from sklearn.tree import DecisionTreeClassifier\n",
    "from sklearn.model_selection import train_test_split, cross_val_score\n",
    "from sklearn.model_selection import GridSearchCV\n",
    "from sklearn.metrics import classification_report, accuracy_score, confusion_matrix, ConfusionMatrixDisplay"
   ]
  },
  {
   "cell_type": "code",
   "execution_count": null,
   "id": "854985e4",
   "metadata": {},
   "outputs": [],
   "source": [
    "# importing required dataset\n",
    "data = pd.read_csv(r\"C:\\Users\\LENOVO\\Desktop\\Data Science Internship\\bank+marketing\\bank\\bank.csv\" ,sep=';')\n",
    "data.head()"
   ]
  },
  {
   "cell_type": "code",
   "execution_count": null,
   "id": "70d820d4",
   "metadata": {},
   "outputs": [],
   "source": [
    "# data visualization\n",
    "data.info()"
   ]
  },
  {
   "cell_type": "code",
   "execution_count": null,
   "id": "659dc46e",
   "metadata": {},
   "outputs": [],
   "source": [
    "data.shape"
   ]
  },
  {
   "cell_type": "code",
   "execution_count": null,
   "id": "b4a2fffb",
   "metadata": {},
   "outputs": [],
   "source": [
    "data.isnull().sum()"
   ]
  },
  {
   "cell_type": "code",
   "execution_count": null,
   "id": "27facb52",
   "metadata": {},
   "outputs": [],
   "source": [
    "data.describe()"
   ]
  },
  {
   "cell_type": "code",
   "execution_count": null,
   "id": "373d9496",
   "metadata": {},
   "outputs": [],
   "source": [
    "data.duplicated()"
   ]
  },
  {
   "cell_type": "code",
   "execution_count": null,
   "id": "6ae4b9a2",
   "metadata": {},
   "outputs": [],
   "source": [
    "data.duplicated().sum()"
   ]
  },
  {
   "cell_type": "code",
   "execution_count": null,
   "id": "b081b8db",
   "metadata": {},
   "outputs": [],
   "source": [
    "# exploratory data analysis \n",
    "sns.histplot(x = \"education\",  kde=True, data = data, hue = \"y\")\n",
    "plt.title(\"Education Status\")\n",
    "plt.show()"
   ]
  },
  {
   "cell_type": "code",
   "execution_count": null,
   "id": "1580c99d",
   "metadata": {},
   "outputs": [],
   "source": [
    "sns.histplot(x=\"age\", data=data, kde=True, hue= \"y\")\n",
    "plt.title(\"Age Distribution\")\n",
    "plt.show()"
   ]
  },
  {
   "cell_type": "code",
   "execution_count": null,
   "id": "b7f4df29",
   "metadata": {},
   "outputs": [],
   "source": [
    "plt.figure(figsize=(8,4))\n",
    "sns.countplot(x=\"education\", data= data, hue =\"y\", color= \"yellow\")\n",
    "plt.title(\"Education Status\")\n",
    "print(plt)"
   ]
  },
  {
   "cell_type": "code",
   "execution_count": null,
   "id": "b4e555d4",
   "metadata": {},
   "outputs": [],
   "source": [
    "plt.figure(figsize=(8,8))\n",
    "sns.countplot(x=\"marital\", data=data, hue=\"y\", color= \"green\")\n",
    "plt.title(\"Marital Status \")\n",
    "print(plt)"
   ]
  },
  {
   "cell_type": "code",
   "execution_count": null,
   "id": "1d69dcfb",
   "metadata": {},
   "outputs": [],
   "source": [
    "plt.figure(figsize=(14,5))\n",
    "sns.countplot(x=\"job\", data= data, hue =\"y\")\n",
    "plt.title(\"Occupation Distribution\")\n",
    "plt.show()"
   ]
  },
  {
   "cell_type": "code",
   "execution_count": null,
   "id": "554656ea",
   "metadata": {},
   "outputs": [],
   "source": [
    "data.default.value_counts()"
   ]
  },
  {
   "cell_type": "code",
   "execution_count": null,
   "id": "ddf98797",
   "metadata": {},
   "outputs": [],
   "source": [
    "plt.figure(figsize=(6,5))\n",
    "sns.countplot(x=\"housing\", data= data, hue =\"y\")\n",
    "plt.title(\"Housing Loan Status\")\n",
    "plt.show()"
   ]
  },
  {
   "cell_type": "code",
   "execution_count": null,
   "id": "e3d53164",
   "metadata": {},
   "outputs": [],
   "source": [
    "data.y.value_counts()\n",
    "keys = data.y.value_counts().index\n",
    "data = data.y.value_counts().values\n",
    "plt.figure(figsize=(6,3.5))\n",
    "explode = [0,0.1]\n",
    "plt.pie(data,labels=keys,explode=explode, autopct='%.0f%%')\n",
    "plt.show()"
   ]
  },
  {
   "cell_type": "code",
   "execution_count": null,
   "id": "643e0065",
   "metadata": {},
   "outputs": [],
   "source": [
    "cols = data.select_dtypes(\"object\").columns\n",
    "cols"
   ]
  },
  {
   "cell_type": "code",
   "execution_count": null,
   "id": "be363e85",
   "metadata": {},
   "outputs": [],
   "source": [
    "le = LabelEncoder()\n",
    "\n",
    "data[cols] = data[cols].apply(le.fit_transform)"
   ]
  },
  {
   "cell_type": "code",
   "execution_count": null,
   "id": "744a4c90",
   "metadata": {},
   "outputs": [],
   "source": [
    "data.head(3)"
   ]
  },
  {
   "cell_type": "code",
   "execution_count": null,
   "id": "4e47fe63",
   "metadata": {},
   "outputs": [],
   "source": [
    "#Splitting input and output\n",
    "X = data.drop(\"y\", axis=1)\n",
    "y = data.y"
   ]
  },
  {
   "cell_type": "code",
   "execution_count": null,
   "id": "0ee02d6f",
   "metadata": {},
   "outputs": [],
   "source": [
    "scaler = StandardScaler()\n",
    "\n",
    "X_scaled = pd.DataFrame(scaler.fit_transform(X), columns = X.columns)"
   ]
  },
  {
   "cell_type": "code",
   "execution_count": null,
   "id": "cf2479ba",
   "metadata": {},
   "outputs": [],
   "source": [
    "#Train-test split\n",
    "train_X, test_X, train_y, test_y = train_test_split(X_scaled, y, test_size=0.3)"
   ]
  },
  {
   "cell_type": "code",
   "execution_count": null,
   "id": "2eb4d3f0",
   "metadata": {},
   "outputs": [],
   "source": [
    "decision_tree = DecisionTreeClassifier()\n",
    "decision_tree.fit(train_X, train_y)"
   ]
  },
  {
   "cell_type": "code",
   "execution_count": null,
   "id": "661ed96d",
   "metadata": {},
   "outputs": [],
   "source": [
    "print('Train Score: {}'.format(decision_tree.score(train_X, train_y)))  \n",
    "print('Test Score: {}'.format(decision_tree.score(test_X, test_y))) "
   ]
  },
  {
   "cell_type": "code",
   "execution_count": null,
   "id": "4e019003",
   "metadata": {},
   "outputs": [],
   "source": [
    "cross_val_score(decision_tree, train_X, train_y, cv=5).mean()"
   ]
  },
  {
   "cell_type": "code",
   "execution_count": null,
   "id": "81419d99",
   "metadata": {},
   "outputs": [],
   "source": [
    "ypred = decision_tree.predict(test_X)\n",
    "print(classification_report(test_y,ypred))"
   ]
  },
  {
   "cell_type": "code",
   "execution_count": null,
   "id": "4d9219c6",
   "metadata": {},
   "outputs": [],
   "source": [
    "#Applying Grid search cv to find best estimaters to improve model performance\n",
    "\n",
    "param_grid = {\n",
    "    'max_depth': [3, 5, 7,10, None],\n",
    "    'criterion' : ['gini', 'entropy'],\n",
    "    'min_samples_leaf': [3, 5, 7, 9,10,20]\n",
    "    }"
   ]
  },
  {
   "cell_type": "code",
   "execution_count": null,
   "id": "26200f5e",
   "metadata": {},
   "outputs": [],
   "source": [
    "gscv = GridSearchCV(decision_tree, param_grid, cv=5, verbose=1)\n",
    "gscv.fit(train_X, train_y)"
   ]
  },
  {
   "cell_type": "code",
   "execution_count": null,
   "id": "591e49fc",
   "metadata": {},
   "outputs": [],
   "source": [
    "gscv.best_params_"
   ]
  },
  {
   "cell_type": "code",
   "execution_count": null,
   "id": "0a80a740",
   "metadata": {},
   "outputs": [],
   "source": [
    "gscv.best_estimator_"
   ]
  },
  {
   "cell_type": "code",
   "execution_count": null,
   "id": "db641231",
   "metadata": {},
   "outputs": [],
   "source": [
    "cross_val_score(gscv.best_estimator_, train_X, train_y, cv=5).mean() "
   ]
  },
  {
   "cell_type": "code",
   "execution_count": null,
   "id": "1db215d0",
   "metadata": {},
   "outputs": [],
   "source": [
    "clf = DecisionTreeClassifier(criterion= 'gini', max_depth= 5, min_samples_leaf = 3)\n",
    "clf.fit(train_X, train_y)"
   ]
  },
  {
   "cell_type": "code",
   "execution_count": null,
   "id": "927812ba",
   "metadata": {},
   "outputs": [],
   "source": [
    "print('Train Score: {}'.format(clf.score(train_X, train_y)))\n",
    "print('Test Score: {}'.format(clf.score(test_X, test_y)))"
   ]
  },
  {
   "cell_type": "code",
   "execution_count": null,
   "id": "430caf75",
   "metadata": {},
   "outputs": [],
   "source": [
    "pred_y = clf.predict(test_X)"
   ]
  },
  {
   "cell_type": "code",
   "execution_count": null,
   "id": "1b17f45c",
   "metadata": {},
   "outputs": [],
   "source": [
    "#Classification Report\n",
    "print(classification_report(pred_y, test_y))"
   ]
  },
  {
   "cell_type": "code",
   "execution_count": null,
   "id": "a5712661",
   "metadata": {},
   "outputs": [],
   "source": [
    "#Accuracy Score\n",
    "accuracy = accuracy_score(test_y,pred_y)\n",
    "print(\"Test Accuracy of Decision Tree Classifier : {}\".format(accuracy*100))"
   ]
  },
  {
   "cell_type": "code",
   "execution_count": null,
   "id": "822500dc",
   "metadata": {},
   "outputs": [],
   "source": [
    "#Visualizing the Tree\n",
    "from sklearn import tree\n",
    "fig = plt.figure(figsize=(15,10))\n",
    "t= tree.plot_tree(clf,filled=True,feature_names=X.columns)"
   ]
  }
 ],
 "metadata": {
  "kernelspec": {
   "display_name": "Python 3",
   "language": "python",
   "name": "python3"
  },
  "language_info": {
   "codemirror_mode": {
    "name": "ipython",
    "version": 3
   },
   "file_extension": ".py",
   "mimetype": "text/x-python",
   "name": "python",
   "nbconvert_exporter": "python",
   "pygments_lexer": "ipython3",
   "version": "3.9.6"
  }
 },
 "nbformat": 4,
 "nbformat_minor": 5
}
